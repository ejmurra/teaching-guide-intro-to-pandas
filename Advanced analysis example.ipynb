{
 "cells": [
  {
   "cell_type": "code",
   "execution_count": null,
   "id": "357fbbb3-cbc6-43b4-aa33-fc1d67faf00d",
   "metadata": {},
   "outputs": [],
   "source": [
    "import pandas as pd"
   ]
  },
  {
   "cell_type": "markdown",
   "id": "7b791586-46fe-4d3a-a2b1-8cf32a0cb4a4",
   "metadata": {},
   "source": [
    "## Set up"
   ]
  },
  {
   "cell_type": "code",
   "execution_count": null,
   "id": "5bf7a920-af58-4865-9226-a49cf019781b",
   "metadata": {},
   "outputs": [],
   "source": [
    "migrants = pd.read_csv('data/migrants_data.csv', dtype=str)\n",
    "\n",
    "# Drop duplicated rows\n",
    "before = len(migrants)\n",
    "print(\"Before dedupe: \" + str(before))\n",
    "migrants = migrants.drop_duplicates(subset=\"ID\")\n",
    "after = len(migrants)\n",
    "print(\"After dedupe: \" + str(after))\n",
    "print(\"diff: \" + str(before - after))\n",
    "\n",
    "# We imported all columns as type string, so let's manually convert some columns to other types like dates\n",
    "migrants[\"Child's Date of Entry\"] = pd.to_datetime(migrants[\"Child's Date of Entry\"])\n",
    "migrants[\"Child's Date of Release\"] = pd.to_datetime(migrants[\"Child's Date of Release\"])\n",
    "\n",
    "# Next, let's drop rows with invalid zipcodes\n",
    "before = len(migrants)\n",
    "migrants = migrants[\n",
    "    (migrants[\"Sponsor Zipcode\"].str.isnumeric().astype(bool)) &\n",
    "    (migrants[\"Sponsor Zipcode\"].str.len() == 5)\n",
    "]\n",
    "after = len(migrants)\n",
    "print(\"before fixing zipcodes: \" + str(before))\n",
    "print(\"after fixing zipcodes: \" + str(after))\n",
    "print(\"diff: \" + str(before - after))"
   ]
  },
  {
   "cell_type": "code",
   "execution_count": null,
   "id": "3ae4639b-a3f7-4f88-84e4-a37645faf8ef",
   "metadata": {},
   "outputs": [],
   "source": [
    "migrants"
   ]
  },
  {
   "cell_type": "markdown",
   "id": "ec01659d-331b-44e4-8bfa-923519ea8247",
   "metadata": {},
   "source": [
    "## Analysis"
   ]
  },
  {
   "cell_type": "markdown",
   "id": "f0db05ef-341f-41c8-8184-809fd7248e1b",
   "metadata": {},
   "source": [
    "From which countries did the most kids come?"
   ]
  },
  {
   "cell_type": "code",
   "execution_count": null,
   "id": "70e2511c-dc63-4344-ba99-7bff14835ed8",
   "metadata": {},
   "outputs": [],
   "source": [
    "migrants[[\"Child's Country of Origin\", \"ID\"]].groupby(\"Child's Country of Origin\").count().sort_values('ID', ascending=False).head(10)"
   ]
  },
  {
   "cell_type": "markdown",
   "id": "215fa2d8-5b37-460f-b65f-45072190b435",
   "metadata": {},
   "source": [
    "Let's see a timeline of Guatemalan kids entering the country"
   ]
  },
  {
   "cell_type": "code",
   "execution_count": null,
   "id": "17811001-cb14-445d-9b53-07d6710505fc",
   "metadata": {},
   "outputs": [],
   "source": [
    "# Create a new column that just the year that each child entered the country\n",
    "migrants[\"year_entered\"] = migrants[\"Child's Date of Entry\"].dt.year\n",
    "\n",
    "# Create a new dataframe by grouping on the country and year, then count the number of ID (children) in each case\n",
    "origin_year = migrants.groupby([\"Child's Country of Origin\",\"year_entered\"])[\"ID\"].count().reset_index()\n",
    "\n",
    "# Display this new dataframe sorted\n",
    "origin_year.sort_values([\"year_entered\", \"Child's Country of Origin\"], ascending=[True,True])"
   ]
  },
  {
   "cell_type": "code",
   "execution_count": null,
   "id": "e31fe909-cc2c-4dcd-9209-7731ed18a157",
   "metadata": {},
   "outputs": [],
   "source": [
    "# And now to answer the question, filter this new dataframe to show just kids from Guatemala\n",
    "guatemala = origin_year[origin_year[\"Child's Country of Origin\"] == \"Guatemala\"]\n",
    "guatemala"
   ]
  },
  {
   "cell_type": "markdown",
   "id": "9d3dbd18-282c-4c79-a727-74456c6ffeff",
   "metadata": {},
   "source": [
    "And let's just show off a couple more features, like renaming columns and creating new columns that rely on existing columns"
   ]
  },
  {
   "cell_type": "code",
   "execution_count": null,
   "id": "692dbe04-3180-4ae6-aac4-20bbd58dff5e",
   "metadata": {},
   "outputs": [],
   "source": [
    "# First, let's rename the ID column since it is the result of the count operation\n",
    "guatemala = guatemala.rename(columns={\"ID\":\"count_kids\"})\n",
    "\n",
    "# Now let's create a percent column that shows what percent of all kids from Guatemala came in which year\n",
    "total = guatemala[\"count_kids\"].sum()\n",
    "\n",
    "#Here we are going to apply a function to each rows taking in the count_kids value and returning the pct value\n",
    "guatemala[\"pct guatemala\"] = guatemala[\"count_kids\"].apply(lambda row: row / total)\n",
    "\n",
    "# Now we are going to do the same thing, but calculate a percantage of all kids\n",
    "total_all = origin_year[\"ID\"].sum()\n",
    "guatemala[\"pct total\"] = guatemala[\"count_kids\"].apply(lambda row: row / total_all)\n",
    "guatemala"
   ]
  },
  {
   "cell_type": "markdown",
   "id": "9f6e46fe-54c2-43dc-bc47-d200f3b1234c",
   "metadata": {},
   "source": [
    "## Advanced topic: joins"
   ]
  },
  {
   "cell_type": "markdown",
   "id": "25d6f4ab-ad9a-462f-87fd-0d937fb47b8c",
   "metadata": {},
   "source": [
    "Lastly, we want to find areas in the US where relatively high numbers of kids were sent. We can do this by calculating a rate of unaccompanied migrant children per 10,000 residents in a county. To do this we will need to join a few datasets together.\n",
    "\n",
    "First, we will join the migrants dataframe to a zipcode crosswalk. This will let us turn zipcodes into zctas. The details are not super important, but this is an important step in order to join zipcodes to counties."
   ]
  },
  {
   "cell_type": "code",
   "execution_count": null,
   "id": "28bd8eb2-4aca-41c5-b09b-20cfb7f48764",
   "metadata": {},
   "outputs": [],
   "source": [
    "zctas = pd.read_csv('data/ZIP Code to ZCTA Crosswalk.csv', dtype=str) # From health resources and services admin https://geocarenavigator.hrsa.gov/\n",
    "zctas"
   ]
  },
  {
   "cell_type": "code",
   "execution_count": null,
   "id": "c26031e1-75e6-47e0-bd93-7822b2e0f706",
   "metadata": {},
   "outputs": [],
   "source": [
    "# Join the migrants df to the zcta crosswalk using the zipcode field on each\n",
    "# For the zctas df, we are only keeping on column, zcta\n",
    "migrants = migrants.set_index(\"Sponsor Zipcode\").join(zctas.set_index(\"ZIP_CODE\")[[\"zcta\"]])\n",
    "migrants"
   ]
  },
  {
   "cell_type": "code",
   "execution_count": null,
   "id": "c3d7a031-e4f5-49a5-98c0-bd6b31384afc",
   "metadata": {},
   "outputs": [],
   "source": [
    "# Now we want to join zctas to counties, we will load the dataset that has a county for each zcta\n",
    "zcta_to_county = pd.read_csv(\"data/ZCTAS to counties.csv\", dtype=str)\n",
    "zcta_to_county"
   ]
  },
  {
   "cell_type": "code",
   "execution_count": null,
   "id": "783e9001-cb8e-45d2-b98d-1cef020bf0ee",
   "metadata": {},
   "outputs": [],
   "source": [
    "# Now we will join these two datasets on the zcta field in each. We will keep all the columns from the county dataset this time\n",
    "migrants = migrants.set_index(\"zcta\").join(zcta_to_county.set_index(\"ZCTA\"))\n",
    "migrants"
   ]
  },
  {
   "cell_type": "code",
   "execution_count": null,
   "id": "470a76a0-cc07-4839-81ba-ea8ba93810a6",
   "metadata": {},
   "outputs": [],
   "source": [
    "# Lastly, we need to load a dataset that has populations for each county so that we can calculate a rate\n",
    "pop = pd.read_csv(\"data/PopulationEstimates.csv\", dtype=str)\n",
    "# Since we read everything in as a string, we need to turn the pop column into a number\n",
    "pop[\"CENSUS_2020_POP\"] = pop[\"CENSUS_2020_POP\"].str.replace(\",\", \"\") # replace commas in the string\n",
    "pop[\"CENSUS_2020_POP\"] = pd.to_numeric(pop[\"CENSUS_2020_POP\"]) # Then turn it into a number\n",
    "pop"
   ]
  },
  {
   "cell_type": "code",
   "execution_count": null,
   "id": "a434da84-cf99-4f8a-9330-b9544083d6d4",
   "metadata": {},
   "outputs": [],
   "source": [
    "migrants = migrants.set_index(\"COUNTYFP\").join(pop.set_index(\"FIPStxt\")[\"CENSUS_2020_POP\"])\n",
    "migrants"
   ]
  },
  {
   "cell_type": "code",
   "execution_count": null,
   "id": "86f79b55-f0f7-4c14-b2d1-804bb52cf9e9",
   "metadata": {},
   "outputs": [],
   "source": [
    "# Now we just need to aggregate them by county and calculate a rate\n",
    "# Here we groupby county fips code and aggregate them to count the number of IDs in each group. We also take the first population value,\n",
    "# county name value, and state value\n",
    "migrants = migrants.reset_index().groupby(\"COUNTYFP\").agg({\n",
    "    \"CENSUS_2020_POP\": \"first\",\n",
    "    \"ID\": \"count\",\n",
    "    \"COUNTY\": \"first\",\n",
    "    \"STATE\": \"first\"\n",
    "})\n",
    "migrants = migrants.rename(columns={\n",
    "    \"ID\": \"count_kids\",\n",
    "    \"CENSUS_2020_POP\": \"pop\"\n",
    "})\n",
    "migrants"
   ]
  },
  {
   "cell_type": "code",
   "execution_count": null,
   "id": "4588dc27-df4c-41c5-894e-2b3a0f29df8a",
   "metadata": {},
   "outputs": [],
   "source": [
    "# Lastly we will create a new rate column\n",
    "migrants[\"rate\"] = migrants.apply(lambda df: df[\"count_kids\"] / df[\"pop\"] * 10000, axis=1)\n",
    "migrants.sort_values(\"rate\", ascending=False).head(10)"
   ]
  },
  {
   "cell_type": "code",
   "execution_count": null,
   "id": "baadab89-cc8f-46b0-a7fe-8f3e5c67812c",
   "metadata": {},
   "outputs": [],
   "source": []
  }
 ],
 "metadata": {
  "kernelspec": {
   "display_name": "Python 3 (ipykernel)",
   "language": "python",
   "name": "python3"
  },
  "language_info": {
   "codemirror_mode": {
    "name": "ipython",
    "version": 3
   },
   "file_extension": ".py",
   "mimetype": "text/x-python",
   "name": "python",
   "nbconvert_exporter": "python",
   "pygments_lexer": "ipython3",
   "version": "3.12.3"
  }
 },
 "nbformat": 4,
 "nbformat_minor": 5
}
