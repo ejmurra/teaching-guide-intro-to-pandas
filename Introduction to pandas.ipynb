{
 "cells": [
  {
   "cell_type": "markdown",
   "metadata": {},
   "source": [
    "# Introduction to pandas\n",
    "\n",
    "This notebook will introduce you to the [`pandas`](https://pandas.pydata.org/) data analysis library and demonstrate how to inspect, sort, filter, group and aggregate a data set.\n",
    "\n",
    "The data for this exercise will be a CSV of [USA TODAY's opening-day MLB salaries](https://www.usatoday.com/sports/mlb/salaries/) from the 2023 season.\n",
    "\n",
    "If you're completely new to Python or your syntax is rusty, it might be useful to [keep this notebook open in a new tab](Python%20syntax%20cheat%20sheet.ipynb) as a reference.\n",
    "\n",
    "#### Ssession outline\n",
    "- [Using Jupyter notebooks](#Using-Jupyter-notebooks)\n",
    "- [Import pandas](#Import-pandas)\n",
    "- [Load data into a data frame](#Load-data-into-a-data-frame)\n",
    "- [Inspect the data](#Inspect-the-data)\n",
    "- [Sort the data](#Sort-the-data)\n",
    "- [Filter the data](#Filter-the-data)\n",
    "- [Group and aggregate the data](#Group-and-aggregate-the-data)\n",
    "- [Export to CSV](#Export-to-CSV)"
   ]
  },
  {
   "cell_type": "markdown",
   "metadata": {},
   "source": [
    "### Using Jupyter notebooks\n",
    "\n",
    "There are many ways to write and run Python code on your computer. One way -- the method we're using today -- is to use [Jupyter notebooks](https://jupyter.org/), which run in your browser and allow you to intersperse documentation with your code. They're handy for bundling your code with a human-readable explanation of what's happening at each step. Check out some examples from the [L.A. Times](https://github.com/datadesk/notebooks) and [BuzzFeed News](https://github.com/BuzzFeedNews/everything#data-and-analyses).\n",
    "\n",
    "**To add a new cell to your notebook**: Click the + button in the menu.\n",
    "\n",
    "**To run a cell of code**: Select the cell and click the \"Run\" button in the menu, or you can press Shift+Enter.\n",
    "\n",
    "**One common gotcha**: The notebook doesn't \"know\" about code you've written until you've _run_ the cell containing it. For example, if you define a variable called `my_name` in one cell, and later, when you try to access that variable in another cell but get an error that says `NameError: name 'my_name' is not defined`, the most likely solution is to run (or re-run) the cell in which you defined `my_name`."
   ]
  },
  {
   "cell_type": "markdown",
   "metadata": {},
   "source": [
    "### Import pandas\n",
    "\n",
    "Before you can use the functionality of `pandas`, a third-party library installed separately from Python, you need to _import_ it. The convention is to import the library under an alias that's easier to type: `as pd`.\n",
    "\n",
    "Run this cell:"
   ]
  },
  {
   "cell_type": "code",
   "execution_count": 1,
   "metadata": {
    "is_executing": true,
    "scrolled": true
   },
   "outputs": [],
   "source": [
    "import pandas as pd"
   ]
  },
  {
   "cell_type": "markdown",
   "metadata": {},
   "source": [
    "### Load data into a data frame\n",
    "\n",
    "Before you can start poking at a data file, you need to load the data into a pandas _data frame_, which is sort of like a virtual spreadsheet with columns and rows.\n",
    "\n",
    "You can load many different types of data files into a data frame, including CSVs (and other delimited text files), Excel files, JSON [and more](https://www.cbtnuggets.com/blog/2018/10/14-file-types-you-can-import-into-pandas/). ([Here's a notebook](https://github.com/ireapps/cfj-2018/blob/master/reference/Importing%20data%20into%20pandas.ipynb) demonstrating how to import some different data files, including live data from the Internet!)\n",
    "\n",
    "For today, we'll focus on importing the unaccompanied child migrants data using a pandas method called [`read_csv()`](https://pandas.pydata.org/pandas-docs/stable/generated/pandas.read_csv.html). There are a ton of options you can supply when you read in the data file, but at minimum, you need to tell the method _where_ the file lives, which means you need to supply the path to the data file as a Python _string_ (some text enclosed in single or double quotes). The file is called `migrants_data.csv`, and it is located in the same directory as this notebook file, so we don't need to specify a longer path.\n",
    "\n",
    "As we import the data, we'll also _assign_ the results of the loading operation to a new variable we have decided to call _df_ (short for data frame -- easy to type, plus you'll see this pattern a lot when Googling around for help).\n",
    "\n",
    "👉 [Click here for more information on Python variables](Python%20syntax%20cheat%20sheet.ipynb#Variable-assignment)."
   ]
  },
  {
   "cell_type": "code",
   "execution_count": 2,
   "metadata": {
    "scrolled": true
   },
   "outputs": [
    {
     "name": "stderr",
     "output_type": "stream",
     "text": [
      "/var/folders/hw/j8xh1n753q34cj9kckc9xc2c0000gp/T/ipykernel_16278/3439987157.py:1: DtypeWarning: Columns (5) have mixed types. Specify dtype option on import or set low_memory=False.\n",
      "  df = pd.read_csv('migrants_data.csv')\n"
     ]
    }
   ],
   "source": [
    "df = pd.read_csv('migrants_data.csv')"
   ]
  },
  {
   "cell_type": "code",
   "execution_count": 35,
   "metadata": {
    "scrolled": true
   },
   "outputs": [],
   "source": [
    "df = pd.read_csv('migrants_data.csv', dtype=str)"
   ]
  },
  {
   "cell_type": "markdown",
   "metadata": {},
   "source": [
    "As a human sentence: \"Go to the pandas library that we imported earlier as something called `pd` and use its `read_csv()` method to import a file called `migrants_data.csv` into a data frame -- and assign the results of that operation to a new variable called `df`.\""
   ]
  },
  {
   "cell_type": "markdown",
   "metadata": {},
   "source": [
    "### Inspect the data\n",
    "\n",
    "Let's take a look at what we've got using a few built-in methods and attributes of a pandas data frame:\n",
    "- `df.head()` will display the first five records (or, if you prefer, you can specify a number, e.g., `df.head(10)`)\n",
    "- `df.tail()` will display the last five records (or, if you prefer, you can specify a number, e.g., `df.tail(10)`)\n",
    "- `df.describe()` will compute summary stats on numeric columns\n",
    "- `df.sample()` will return a randomly selected record (or, if you prefer, you specify a number, e.g., `df.sample(5)`\n",
    "- `df.shape` will tell you how many columns, how many rows\n",
    "- Using the Python function `len()` is another way to get a record count: `len(df)`\n",
    "- `df.dtypes` will list the column names and tell you what kind of data is in each one"
   ]
  },
  {
   "cell_type": "code",
   "execution_count": 6,
   "metadata": {
    "scrolled": true
   },
   "outputs": [
    {
     "data": {
      "text/html": [
       "<div>\n",
       "<style scoped>\n",
       "    .dataframe tbody tr th:only-of-type {\n",
       "        vertical-align: middle;\n",
       "    }\n",
       "\n",
       "    .dataframe tbody tr th {\n",
       "        vertical-align: top;\n",
       "    }\n",
       "\n",
       "    .dataframe thead th {\n",
       "        text-align: right;\n",
       "    }\n",
       "</style>\n",
       "<table border=\"1\" class=\"dataframe\">\n",
       "  <thead>\n",
       "    <tr style=\"text-align: right;\">\n",
       "      <th></th>\n",
       "      <th>ID</th>\n",
       "      <th>Child's Country of Origin</th>\n",
       "      <th>Child's Gender</th>\n",
       "      <th>Child's Date of Entry</th>\n",
       "      <th>Child's Date of Release</th>\n",
       "      <th>Sponsor Zipcode</th>\n",
       "      <th>Sponsor Category</th>\n",
       "      <th>Relationship of Sponsor</th>\n",
       "    </tr>\n",
       "  </thead>\n",
       "  <tbody>\n",
       "    <tr>\n",
       "      <th>0</th>\n",
       "      <td>1</td>\n",
       "      <td>Honduras</td>\n",
       "      <td>F</td>\n",
       "      <td>1/1/15</td>\n",
       "      <td>1/28/15</td>\n",
       "      <td>37863</td>\n",
       "      <td>1.0</td>\n",
       "      <td>Mother</td>\n",
       "    </tr>\n",
       "    <tr>\n",
       "      <th>1</th>\n",
       "      <td>2</td>\n",
       "      <td>Honduras</td>\n",
       "      <td>F</td>\n",
       "      <td>1/1/15</td>\n",
       "      <td>1/23/15</td>\n",
       "      <td>28212</td>\n",
       "      <td>1.0</td>\n",
       "      <td>Mother</td>\n",
       "    </tr>\n",
       "    <tr>\n",
       "      <th>2</th>\n",
       "      <td>3</td>\n",
       "      <td>Honduras</td>\n",
       "      <td>F</td>\n",
       "      <td>1/1/15</td>\n",
       "      <td>1/23/15</td>\n",
       "      <td>28212</td>\n",
       "      <td>2.0</td>\n",
       "      <td>Aunt</td>\n",
       "    </tr>\n",
       "    <tr>\n",
       "      <th>3</th>\n",
       "      <td>4</td>\n",
       "      <td>Honduras</td>\n",
       "      <td>M</td>\n",
       "      <td>1/2/15</td>\n",
       "      <td>1/30/15</td>\n",
       "      <td>27501</td>\n",
       "      <td>2.0</td>\n",
       "      <td>Brother</td>\n",
       "    </tr>\n",
       "    <tr>\n",
       "      <th>4</th>\n",
       "      <td>5</td>\n",
       "      <td>Honduras</td>\n",
       "      <td>M</td>\n",
       "      <td>1/1/15</td>\n",
       "      <td>2/13/15</td>\n",
       "      <td>78747</td>\n",
       "      <td>3.0</td>\n",
       "      <td>Other Cousin</td>\n",
       "    </tr>\n",
       "  </tbody>\n",
       "</table>\n",
       "</div>"
      ],
      "text/plain": [
       "   ID Child's Country of Origin Child's Gender Child's Date of Entry  \\\n",
       "0   1                  Honduras              F                1/1/15   \n",
       "1   2                  Honduras              F                1/1/15   \n",
       "2   3                  Honduras              F                1/1/15   \n",
       "3   4                  Honduras              M                1/2/15   \n",
       "4   5                  Honduras              M                1/1/15   \n",
       "\n",
       "  Child's Date of Release Sponsor Zipcode  Sponsor Category  \\\n",
       "0                 1/28/15           37863               1.0   \n",
       "1                 1/23/15           28212               1.0   \n",
       "2                 1/23/15           28212               2.0   \n",
       "3                 1/30/15           27501               2.0   \n",
       "4                 2/13/15           78747               3.0   \n",
       "\n",
       "  Relationship of Sponsor  \n",
       "0                  Mother  \n",
       "1                  Mother  \n",
       "2                    Aunt  \n",
       "3                 Brother  \n",
       "4            Other Cousin  "
      ]
     },
     "execution_count": 6,
     "metadata": {},
     "output_type": "execute_result"
    }
   ],
   "source": [
    "df.head()"
   ]
  },
  {
   "cell_type": "code",
   "execution_count": null,
   "metadata": {
    "scrolled": true
   },
   "outputs": [],
   "source": []
  },
  {
   "cell_type": "code",
   "execution_count": 5,
   "metadata": {
    "scrolled": true
   },
   "outputs": [
    {
     "data": {
      "text/html": [
       "<div>\n",
       "<style scoped>\n",
       "    .dataframe tbody tr th:only-of-type {\n",
       "        vertical-align: middle;\n",
       "    }\n",
       "\n",
       "    .dataframe tbody tr th {\n",
       "        vertical-align: top;\n",
       "    }\n",
       "\n",
       "    .dataframe thead th {\n",
       "        text-align: right;\n",
       "    }\n",
       "</style>\n",
       "<table border=\"1\" class=\"dataframe\">\n",
       "  <thead>\n",
       "    <tr style=\"text-align: right;\">\n",
       "      <th></th>\n",
       "      <th>ID</th>\n",
       "      <th>Sponsor Category</th>\n",
       "    </tr>\n",
       "  </thead>\n",
       "  <tbody>\n",
       "    <tr>\n",
       "      <th>count</th>\n",
       "      <td>553322.000000</td>\n",
       "      <td>552666.000000</td>\n",
       "    </tr>\n",
       "    <tr>\n",
       "      <th>mean</th>\n",
       "      <td>276659.510289</td>\n",
       "      <td>1.697588</td>\n",
       "    </tr>\n",
       "    <tr>\n",
       "      <th>std</th>\n",
       "      <td>159730.429443</td>\n",
       "      <td>0.664395</td>\n",
       "    </tr>\n",
       "    <tr>\n",
       "      <th>min</th>\n",
       "      <td>1.000000</td>\n",
       "      <td>1.000000</td>\n",
       "    </tr>\n",
       "    <tr>\n",
       "      <th>25%</th>\n",
       "      <td>138329.250000</td>\n",
       "      <td>1.000000</td>\n",
       "    </tr>\n",
       "    <tr>\n",
       "      <th>50%</th>\n",
       "      <td>276659.500000</td>\n",
       "      <td>2.000000</td>\n",
       "    </tr>\n",
       "    <tr>\n",
       "      <th>75%</th>\n",
       "      <td>414989.750000</td>\n",
       "      <td>2.000000</td>\n",
       "    </tr>\n",
       "    <tr>\n",
       "      <th>max</th>\n",
       "      <td>553320.000000</td>\n",
       "      <td>3.000000</td>\n",
       "    </tr>\n",
       "  </tbody>\n",
       "</table>\n",
       "</div>"
      ],
      "text/plain": [
       "                  ID  Sponsor Category\n",
       "count  553322.000000     552666.000000\n",
       "mean   276659.510289          1.697588\n",
       "std    159730.429443          0.664395\n",
       "min         1.000000          1.000000\n",
       "25%    138329.250000          1.000000\n",
       "50%    276659.500000          2.000000\n",
       "75%    414989.750000          2.000000\n",
       "max    553320.000000          3.000000"
      ]
     },
     "execution_count": 5,
     "metadata": {},
     "output_type": "execute_result"
    }
   ],
   "source": [
    "df.describe()"
   ]
  },
  {
   "cell_type": "code",
   "execution_count": null,
   "metadata": {
    "scrolled": true
   },
   "outputs": [],
   "source": []
  },
  {
   "cell_type": "code",
   "execution_count": 3,
   "metadata": {
    "scrolled": true
   },
   "outputs": [
    {
     "data": {
      "text/plain": [
       "ID                             int64\n",
       "Child's Country of Origin     object\n",
       "Child's Gender                object\n",
       "Child's Date of Entry         object\n",
       "Child's Date of Release       object\n",
       "Sponsor Zipcode               object\n",
       "Sponsor Category             float64\n",
       "Relationship of Sponsor       object\n",
       "dtype: object"
      ]
     },
     "execution_count": 3,
     "metadata": {},
     "output_type": "execute_result"
    }
   ],
   "source": [
    "df.dtypes"
   ]
  },
  {
   "cell_type": "markdown",
   "metadata": {},
   "source": [
    "When checking the dataframe's dtypes, we can see that most columns are of type `object` which is how pandas denotes string fields. We also have two number fields `ID` and `Sponsor Category`. While both of these columns contain numbers, they aren't really number columns, they are more like tags. You wouldn't ever want to add or multiply the `ID` field on any of the rows, and `Sponsor Category` is either 1, 2 or 3, depending on the sponsor's relationship to the child."
   ]
  },
  {
   "cell_type": "markdown",
   "metadata": {},
   "source": [
    "For this reason, it is better to consider these columns as strings. We can do that two ways. The first is to manually convert each column to a string and assign it overtop of the old column. We can do that like this:"
   ]
  },
  {
   "cell_type": "code",
   "execution_count": 7,
   "metadata": {},
   "outputs": [],
   "source": [
    "df[\"ID\"] = df[\"ID\"].astype(str)\n",
    "df[\"Sponsor Category\"] = df[\"Sponsor Category\"].astype(str)"
   ]
  },
  {
   "cell_type": "markdown",
   "metadata": {},
   "source": [
    "Alternatively, we can specify each column's dtype when we import it. This is the preferred method because if the column is wrongly assigned from the start, it may be formatted in a way we don't want. For example, if a string field is parsed as a number, any leading zeros are dropped from the column. But if we import it as a string from the start we will keep those leading zeros. You do this by specifying a dtype argument to `read_csv()`. This argument can be a dictionary that's keys are column names and values are dtypes, or if every column is the same type you can just pass that type as the argument."
   ]
  },
  {
   "cell_type": "code",
   "execution_count": 29,
   "metadata": {},
   "outputs": [],
   "source": [
    "df = pd.read_csv('migrants_data.csv', dtype=str)"
   ]
  },
  {
   "cell_type": "markdown",
   "metadata": {},
   "source": [
    "## Prepare the data"
   ]
  },
  {
   "cell_type": "markdown",
   "metadata": {},
   "source": [
    "The data we have loaded is the raw data file released by the US Department of Human Health and Services so there are a few things we need to clean up before we can work with it."
   ]
  },
  {
   "cell_type": "markdown",
   "metadata": {},
   "source": [
    "Because we imported the csv with a dtype of string for each column, we need to set the appropriate type for each column now. In order to set a column's dtype, we will set each column individually on the dataframe by accessing it with `df[\"column_name\"]`."
   ]
  },
  {
   "cell_type": "markdown",
   "metadata": {},
   "source": [
    "First, we'll set the two date columns to use datetime types."
   ]
  },
  {
   "cell_type": "code",
   "execution_count": 36,
   "metadata": {},
   "outputs": [
    {
     "name": "stderr",
     "output_type": "stream",
     "text": [
      "/var/folders/hw/j8xh1n753q34cj9kckc9xc2c0000gp/T/ipykernel_16278/1601276687.py:1: UserWarning: Could not infer format, so each element will be parsed individually, falling back to `dateutil`. To ensure parsing is consistent and as-expected, please specify a format.\n",
      "  df[\"Child's Date of Entry\"] = pd.to_datetime(df[\"Child's Date of Entry\"])\n"
     ]
    }
   ],
   "source": [
    "df[\"Child's Date of Entry\"] = pd.to_datetime(df[\"Child's Date of Entry\"])"
   ]
  },
  {
   "cell_type": "code",
   "execution_count": 37,
   "metadata": {},
   "outputs": [
    {
     "name": "stderr",
     "output_type": "stream",
     "text": [
      "/var/folders/hw/j8xh1n753q34cj9kckc9xc2c0000gp/T/ipykernel_16278/1395836540.py:1: UserWarning: Could not infer format, so each element will be parsed individually, falling back to `dateutil`. To ensure parsing is consistent and as-expected, please specify a format.\n",
      "  df[\"Child's Date of Release\"] = pd.to_datetime(df[\"Child's Date of Release\"])\n"
     ]
    }
   ],
   "source": [
    "df[\"Child's Date of Release\"] = pd.to_datetime(df[\"Child's Date of Release\"])"
   ]
  },
  {
   "cell_type": "markdown",
   "metadata": {},
   "source": [
    "Next, we need to drop a couple duplicate rows that HHS left in the data. We can find all the rows with a duplicate ID by"
   ]
  },
  {
   "cell_type": "code",
   "execution_count": null,
   "metadata": {},
   "outputs": [],
   "source": [
    "dupes = list(df[df.duplicated(subset=\"ID\")][\"ID\"])\n",
    "df[df[\"ID\"].isin(dupes)]"
   ]
  },
  {
   "cell_type": "markdown",
   "metadata": {},
   "source": [
    "So there are two duplicated rows. The only difference for each of them is the date of release. For our use case, we're just going to keep the first row of each since we aren't planning to do any analysis where one day's difference in the date of release will matter. We can deduplicate on the ID field and keep the first result for each ID with the following code. We will print the length of the df before and after the deduplication to confirm that the rows have been excluded."
   ]
  },
  {
   "cell_type": "code",
   "execution_count": null,
   "metadata": {},
   "outputs": [],
   "source": [
    "print(len(df))\n",
    "df = df.drop_duplicates(\"ID\")\n",
    "print(len(df))"
   ]
  },
  {
   "cell_type": "markdown",
   "metadata": {},
   "source": [
    "The last thing we're going to do, is fix the zipcodes. Some of these zipcodes have been improperly recorded by HHS - they contain one or more non-number characters. We can see all of these rows with the following line of code, which filters the dataframe to return only the rows with non-number characters in the zipcode field."
   ]
  },
  {
   "cell_type": "code",
   "execution_count": 26,
   "metadata": {},
   "outputs": [
    {
     "data": {
      "text/html": [
       "<div>\n",
       "<style scoped>\n",
       "    .dataframe tbody tr th:only-of-type {\n",
       "        vertical-align: middle;\n",
       "    }\n",
       "\n",
       "    .dataframe tbody tr th {\n",
       "        vertical-align: top;\n",
       "    }\n",
       "\n",
       "    .dataframe thead th {\n",
       "        text-align: right;\n",
       "    }\n",
       "</style>\n",
       "<table border=\"1\" class=\"dataframe\">\n",
       "  <thead>\n",
       "    <tr style=\"text-align: right;\">\n",
       "      <th></th>\n",
       "      <th>ID</th>\n",
       "      <th>Child's Country of Origin</th>\n",
       "      <th>Child's Gender</th>\n",
       "      <th>Child's Date of Entry</th>\n",
       "      <th>Child's Date of Release</th>\n",
       "      <th>Sponsor Zipcode</th>\n",
       "      <th>Sponsor Category</th>\n",
       "      <th>Relationship of Sponsor</th>\n",
       "    </tr>\n",
       "  </thead>\n",
       "  <tbody>\n",
       "    <tr>\n",
       "      <th>2516</th>\n",
       "      <td>2516</td>\n",
       "      <td>El Salvador</td>\n",
       "      <td>M</td>\n",
       "      <td>2/21/15</td>\n",
       "      <td>3/2/15</td>\n",
       "      <td>-</td>\n",
       "      <td>1</td>\n",
       "      <td>Mother</td>\n",
       "    </tr>\n",
       "    <tr>\n",
       "      <th>4283</th>\n",
       "      <td>4282</td>\n",
       "      <td>Guatemala</td>\n",
       "      <td>M</td>\n",
       "      <td>3/19/15</td>\n",
       "      <td>5/6/15</td>\n",
       "      <td>Virgi</td>\n",
       "      <td>NaN</td>\n",
       "      <td>First Cousin</td>\n",
       "    </tr>\n",
       "    <tr>\n",
       "      <th>12756</th>\n",
       "      <td>12755</td>\n",
       "      <td>Guatemala</td>\n",
       "      <td>M</td>\n",
       "      <td>6/17/15</td>\n",
       "      <td>7/10/15</td>\n",
       "      <td>-</td>\n",
       "      <td>1</td>\n",
       "      <td>Father</td>\n",
       "    </tr>\n",
       "    <tr>\n",
       "      <th>13025</th>\n",
       "      <td>13024</td>\n",
       "      <td>Guatemala</td>\n",
       "      <td>F</td>\n",
       "      <td>6/19/15</td>\n",
       "      <td>7/2/15</td>\n",
       "      <td>-</td>\n",
       "      <td>1</td>\n",
       "      <td>Mother</td>\n",
       "    </tr>\n",
       "    <tr>\n",
       "      <th>14681</th>\n",
       "      <td>14680</td>\n",
       "      <td>Guatemala</td>\n",
       "      <td>F</td>\n",
       "      <td>7/5/15</td>\n",
       "      <td>12/21/15</td>\n",
       "      <td>-</td>\n",
       "      <td>1</td>\n",
       "      <td>Mother</td>\n",
       "    </tr>\n",
       "    <tr>\n",
       "      <th>...</th>\n",
       "      <td>...</td>\n",
       "      <td>...</td>\n",
       "      <td>...</td>\n",
       "      <td>...</td>\n",
       "      <td>...</td>\n",
       "      <td>...</td>\n",
       "      <td>...</td>\n",
       "      <td>...</td>\n",
       "    </tr>\n",
       "    <tr>\n",
       "      <th>392500</th>\n",
       "      <td>392499</td>\n",
       "      <td>Sierra Leone</td>\n",
       "      <td>F</td>\n",
       "      <td>12/25/21</td>\n",
       "      <td>5/12/22</td>\n",
       "      <td>M6P 1</td>\n",
       "      <td>1</td>\n",
       "      <td>Father</td>\n",
       "    </tr>\n",
       "    <tr>\n",
       "      <th>406994</th>\n",
       "      <td>406993</td>\n",
       "      <td>Guatemala</td>\n",
       "      <td>F</td>\n",
       "      <td>2/21/22</td>\n",
       "      <td>4/9/22</td>\n",
       "      <td>-</td>\n",
       "      <td>3</td>\n",
       "      <td>Other Distant Relative</td>\n",
       "    </tr>\n",
       "    <tr>\n",
       "      <th>407566</th>\n",
       "      <td>407565</td>\n",
       "      <td>Guatemala</td>\n",
       "      <td>M</td>\n",
       "      <td>2/23/22</td>\n",
       "      <td>3/3/22</td>\n",
       "      <td>-</td>\n",
       "      <td>1</td>\n",
       "      <td>Father</td>\n",
       "    </tr>\n",
       "    <tr>\n",
       "      <th>436473</th>\n",
       "      <td>436472</td>\n",
       "      <td>El Salvador</td>\n",
       "      <td>F</td>\n",
       "      <td>5/18/22</td>\n",
       "      <td>5/28/22</td>\n",
       "      <td>-</td>\n",
       "      <td>1</td>\n",
       "      <td>Mother</td>\n",
       "    </tr>\n",
       "    <tr>\n",
       "      <th>461638</th>\n",
       "      <td>461637</td>\n",
       "      <td>Guatemala</td>\n",
       "      <td>F</td>\n",
       "      <td>7/16/22</td>\n",
       "      <td>8/13/22</td>\n",
       "      <td>-</td>\n",
       "      <td>2</td>\n",
       "      <td>Adult First Cousin (Non-Primary Caregiver)</td>\n",
       "    </tr>\n",
       "  </tbody>\n",
       "</table>\n",
       "<p>75 rows × 8 columns</p>\n",
       "</div>"
      ],
      "text/plain": [
       "            ID Child's Country of Origin Child's Gender Child's Date of Entry  \\\n",
       "2516      2516               El Salvador              M               2/21/15   \n",
       "4283      4282                 Guatemala              M               3/19/15   \n",
       "12756    12755                 Guatemala              M               6/17/15   \n",
       "13025    13024                 Guatemala              F               6/19/15   \n",
       "14681    14680                 Guatemala              F                7/5/15   \n",
       "...        ...                       ...            ...                   ...   \n",
       "392500  392499              Sierra Leone              F              12/25/21   \n",
       "406994  406993                 Guatemala              F               2/21/22   \n",
       "407566  407565                 Guatemala              M               2/23/22   \n",
       "436473  436472               El Salvador              F               5/18/22   \n",
       "461638  461637                 Guatemala              F               7/16/22   \n",
       "\n",
       "       Child's Date of Release Sponsor Zipcode Sponsor Category  \\\n",
       "2516                    3/2/15               -                1   \n",
       "4283                    5/6/15           Virgi              NaN   \n",
       "12756                  7/10/15               -                1   \n",
       "13025                   7/2/15               -                1   \n",
       "14681                 12/21/15               -                1   \n",
       "...                        ...             ...              ...   \n",
       "392500                 5/12/22           M6P 1                1   \n",
       "406994                  4/9/22               -                3   \n",
       "407566                  3/3/22               -                1   \n",
       "436473                 5/28/22               -                1   \n",
       "461638                 8/13/22               -                2   \n",
       "\n",
       "                           Relationship of Sponsor  \n",
       "2516                                        Mother  \n",
       "4283                                  First Cousin  \n",
       "12756                                       Father  \n",
       "13025                                       Mother  \n",
       "14681                                       Mother  \n",
       "...                                            ...  \n",
       "392500                                      Father  \n",
       "406994                      Other Distant Relative  \n",
       "407566                                      Father  \n",
       "436473                                      Mother  \n",
       "461638  Adult First Cousin (Non-Primary Caregiver)  \n",
       "\n",
       "[75 rows x 8 columns]"
      ]
     },
     "execution_count": 26,
     "metadata": {},
     "output_type": "execute_result"
    }
   ],
   "source": [
    "df[~df[\"Sponsor Zipcode\"].str.isnumeric().astype(bool)]"
   ]
  },
  {
   "cell_type": "markdown",
   "metadata": {},
   "source": [
    "To see just the unique zipcodes"
   ]
  },
  {
   "cell_type": "code",
   "execution_count": 27,
   "metadata": {},
   "outputs": [
    {
     "data": {
      "text/plain": [
       "array(['-', 'Virgi', '--', 'M4T2E', 'M9W6H', 'N6H4Y', 'M6N 3', 'L2E2S',\n",
       "       'V4C1C', 'M6P 1'], dtype=object)"
      ]
     },
     "execution_count": 27,
     "metadata": {},
     "output_type": "execute_result"
    }
   ],
   "source": [
    "df[~df[\"Sponsor Zipcode\"].str.isnumeric().astype(bool)][\"Sponsor Zipcode\"].unique()"
   ]
  },
  {
   "cell_type": "markdown",
   "metadata": {},
   "source": [
    "And we can see now, that all of these are not US zipcodes so we are safe to drop these 75 rows. We will do that by filtering the inverse of what we did above and assigning the resulting dataframe overtop of our old dataframe. I'll print the length of the dataframe before and after so we can confirm those 75 rows are gone."
   ]
  },
  {
   "cell_type": "code",
   "execution_count": 38,
   "metadata": {},
   "outputs": [
    {
     "name": "stdout",
     "output_type": "stream",
     "text": [
      "before: 553322\n",
      "after: 553247\n",
      "diff: 75\n"
     ]
    }
   ],
   "source": [
    "before = len(df)\n",
    "df = df[df[\"Sponsor Zipcode\"].str.isnumeric().astype(bool)]\n",
    "after = len(df)\n",
    "print(\"before: \" + str(before))\n",
    "print(\"after: \" + str(after))\n",
    "print(\"diff: \" + str(before - after))"
   ]
  },
  {
   "cell_type": "markdown",
   "metadata": {},
   "source": [
    "The last thing we need to do is ensure that every zipcode is exactly 5 characters in length. Let's filter the dataframe to show all of the zipcodes that aren't exactly 5 characters long."
   ]
  },
  {
   "cell_type": "code",
   "execution_count": 44,
   "metadata": {},
   "outputs": [
    {
     "data": {
      "text/html": [
       "<div>\n",
       "<style scoped>\n",
       "    .dataframe tbody tr th:only-of-type {\n",
       "        vertical-align: middle;\n",
       "    }\n",
       "\n",
       "    .dataframe tbody tr th {\n",
       "        vertical-align: top;\n",
       "    }\n",
       "\n",
       "    .dataframe thead th {\n",
       "        text-align: right;\n",
       "    }\n",
       "</style>\n",
       "<table border=\"1\" class=\"dataframe\">\n",
       "  <thead>\n",
       "    <tr style=\"text-align: right;\">\n",
       "      <th></th>\n",
       "      <th>ID</th>\n",
       "      <th>Child's Country of Origin</th>\n",
       "      <th>Child's Gender</th>\n",
       "      <th>Child's Date of Entry</th>\n",
       "      <th>Child's Date of Release</th>\n",
       "      <th>Sponsor Zipcode</th>\n",
       "      <th>Sponsor Category</th>\n",
       "      <th>Relationship of Sponsor</th>\n",
       "    </tr>\n",
       "  </thead>\n",
       "  <tbody>\n",
       "    <tr>\n",
       "      <th>23160</th>\n",
       "      <td>23159</td>\n",
       "      <td>Guatemala</td>\n",
       "      <td>M</td>\n",
       "      <td>2015-09-11</td>\n",
       "      <td>2015-10-01</td>\n",
       "      <td>6183</td>\n",
       "      <td>1</td>\n",
       "      <td>Father</td>\n",
       "    </tr>\n",
       "    <tr>\n",
       "      <th>24832</th>\n",
       "      <td>24831</td>\n",
       "      <td>Guatemala</td>\n",
       "      <td>M</td>\n",
       "      <td>2015-09-23</td>\n",
       "      <td>2015-10-11</td>\n",
       "      <td>3917</td>\n",
       "      <td>1</td>\n",
       "      <td>Mother</td>\n",
       "    </tr>\n",
       "    <tr>\n",
       "      <th>28431</th>\n",
       "      <td>28430</td>\n",
       "      <td>Honduras</td>\n",
       "      <td>F</td>\n",
       "      <td>2015-10-19</td>\n",
       "      <td>2015-11-18</td>\n",
       "      <td>9803</td>\n",
       "      <td>1</td>\n",
       "      <td>Father</td>\n",
       "    </tr>\n",
       "    <tr>\n",
       "      <th>35403</th>\n",
       "      <td>35402</td>\n",
       "      <td>Honduras</td>\n",
       "      <td>M</td>\n",
       "      <td>2015-11-30</td>\n",
       "      <td>2016-02-10</td>\n",
       "      <td>2136</td>\n",
       "      <td>NaN</td>\n",
       "      <td>Unknown</td>\n",
       "    </tr>\n",
       "    <tr>\n",
       "      <th>35813</th>\n",
       "      <td>35812</td>\n",
       "      <td>Guatemala</td>\n",
       "      <td>M</td>\n",
       "      <td>2015-12-02</td>\n",
       "      <td>2016-01-06</td>\n",
       "      <td>0000</td>\n",
       "      <td>2</td>\n",
       "      <td>Sister</td>\n",
       "    </tr>\n",
       "    <tr>\n",
       "      <th>44697</th>\n",
       "      <td>44696</td>\n",
       "      <td>Honduras</td>\n",
       "      <td>M</td>\n",
       "      <td>2016-02-01</td>\n",
       "      <td>2016-02-21</td>\n",
       "      <td>7580</td>\n",
       "      <td>1</td>\n",
       "      <td>Mother</td>\n",
       "    </tr>\n",
       "    <tr>\n",
       "      <th>46462</th>\n",
       "      <td>46461</td>\n",
       "      <td>El Salvador</td>\n",
       "      <td>M</td>\n",
       "      <td>2016-02-23</td>\n",
       "      <td>2016-03-11</td>\n",
       "      <td>7707</td>\n",
       "      <td>1</td>\n",
       "      <td>Father</td>\n",
       "    </tr>\n",
       "    <tr>\n",
       "      <th>67907</th>\n",
       "      <td>67906</td>\n",
       "      <td>Honduras</td>\n",
       "      <td>M</td>\n",
       "      <td>2016-07-20</td>\n",
       "      <td>2016-09-10</td>\n",
       "      <td>NaN</td>\n",
       "      <td>1</td>\n",
       "      <td>Mother</td>\n",
       "    </tr>\n",
       "    <tr>\n",
       "      <th>467816</th>\n",
       "      <td>467815</td>\n",
       "      <td>Guatemala</td>\n",
       "      <td>F</td>\n",
       "      <td>2022-08-03</td>\n",
       "      <td>2022-11-07</td>\n",
       "      <td>NaN</td>\n",
       "      <td>3</td>\n",
       "      <td>Unrelated Sponsor</td>\n",
       "    </tr>\n",
       "    <tr>\n",
       "      <th>471372</th>\n",
       "      <td>471371</td>\n",
       "      <td>United States of America</td>\n",
       "      <td>M</td>\n",
       "      <td>2022-08-15</td>\n",
       "      <td>2022-10-26</td>\n",
       "      <td>NaN</td>\n",
       "      <td>3</td>\n",
       "      <td>Unrelated Sponsor</td>\n",
       "    </tr>\n",
       "    <tr>\n",
       "      <th>480008</th>\n",
       "      <td>480007</td>\n",
       "      <td>Guatemala</td>\n",
       "      <td>M</td>\n",
       "      <td>2022-09-12</td>\n",
       "      <td>2022-10-02</td>\n",
       "      <td>NaN</td>\n",
       "      <td>2</td>\n",
       "      <td>Uncle (Non-Primary Caregiver)</td>\n",
       "    </tr>\n",
       "    <tr>\n",
       "      <th>481048</th>\n",
       "      <td>481047</td>\n",
       "      <td>Mexico</td>\n",
       "      <td>M</td>\n",
       "      <td>2022-09-15</td>\n",
       "      <td>2022-10-01</td>\n",
       "      <td>NaN</td>\n",
       "      <td>1</td>\n",
       "      <td>Mother</td>\n",
       "    </tr>\n",
       "    <tr>\n",
       "      <th>485748</th>\n",
       "      <td>485747</td>\n",
       "      <td>United States of America</td>\n",
       "      <td>M</td>\n",
       "      <td>2022-09-30</td>\n",
       "      <td>2022-11-04</td>\n",
       "      <td>NaN</td>\n",
       "      <td>2</td>\n",
       "      <td>Grandmother</td>\n",
       "    </tr>\n",
       "    <tr>\n",
       "      <th>487264</th>\n",
       "      <td>487263</td>\n",
       "      <td>Cuba</td>\n",
       "      <td>F</td>\n",
       "      <td>2022-10-05</td>\n",
       "      <td>2022-10-17</td>\n",
       "      <td>NaN</td>\n",
       "      <td>1</td>\n",
       "      <td>Mother</td>\n",
       "    </tr>\n",
       "    <tr>\n",
       "      <th>490095</th>\n",
       "      <td>490094</td>\n",
       "      <td>Cuba</td>\n",
       "      <td>M</td>\n",
       "      <td>2022-10-13</td>\n",
       "      <td>2022-10-22</td>\n",
       "      <td>NaN</td>\n",
       "      <td>1</td>\n",
       "      <td>Father</td>\n",
       "    </tr>\n",
       "    <tr>\n",
       "      <th>490694</th>\n",
       "      <td>490693</td>\n",
       "      <td>El Salvador</td>\n",
       "      <td>F</td>\n",
       "      <td>2022-10-15</td>\n",
       "      <td>2022-11-27</td>\n",
       "      <td>NaN</td>\n",
       "      <td>1</td>\n",
       "      <td>Mother</td>\n",
       "    </tr>\n",
       "    <tr>\n",
       "      <th>493152</th>\n",
       "      <td>493151</td>\n",
       "      <td>Honduras</td>\n",
       "      <td>F</td>\n",
       "      <td>2022-10-23</td>\n",
       "      <td>2022-11-02</td>\n",
       "      <td>NaN</td>\n",
       "      <td>1</td>\n",
       "      <td>Mother</td>\n",
       "    </tr>\n",
       "    <tr>\n",
       "      <th>505125</th>\n",
       "      <td>505124</td>\n",
       "      <td>Honduras</td>\n",
       "      <td>M</td>\n",
       "      <td>2022-11-27</td>\n",
       "      <td>2022-12-07</td>\n",
       "      <td>NaN</td>\n",
       "      <td>2</td>\n",
       "      <td>Grandmother</td>\n",
       "    </tr>\n",
       "    <tr>\n",
       "      <th>531023</th>\n",
       "      <td>531022</td>\n",
       "      <td>United States of America</td>\n",
       "      <td>M</td>\n",
       "      <td>2023-02-21</td>\n",
       "      <td>2023-04-11</td>\n",
       "      <td>NaN</td>\n",
       "      <td>2</td>\n",
       "      <td>Grandmother</td>\n",
       "    </tr>\n",
       "  </tbody>\n",
       "</table>\n",
       "</div>"
      ],
      "text/plain": [
       "            ID Child's Country of Origin Child's Gender Child's Date of Entry  \\\n",
       "23160    23159                 Guatemala              M            2015-09-11   \n",
       "24832    24831                 Guatemala              M            2015-09-23   \n",
       "28431    28430                  Honduras              F            2015-10-19   \n",
       "35403    35402                  Honduras              M            2015-11-30   \n",
       "35813    35812                 Guatemala              M            2015-12-02   \n",
       "44697    44696                  Honduras              M            2016-02-01   \n",
       "46462    46461               El Salvador              M            2016-02-23   \n",
       "67907    67906                  Honduras              M            2016-07-20   \n",
       "467816  467815                 Guatemala              F            2022-08-03   \n",
       "471372  471371  United States of America              M            2022-08-15   \n",
       "480008  480007                 Guatemala              M            2022-09-12   \n",
       "481048  481047                    Mexico              M            2022-09-15   \n",
       "485748  485747  United States of America              M            2022-09-30   \n",
       "487264  487263                      Cuba              F            2022-10-05   \n",
       "490095  490094                      Cuba              M            2022-10-13   \n",
       "490694  490693               El Salvador              F            2022-10-15   \n",
       "493152  493151                  Honduras              F            2022-10-23   \n",
       "505125  505124                  Honduras              M            2022-11-27   \n",
       "531023  531022  United States of America              M            2023-02-21   \n",
       "\n",
       "       Child's Date of Release Sponsor Zipcode Sponsor Category  \\\n",
       "23160               2015-10-01            6183                1   \n",
       "24832               2015-10-11            3917                1   \n",
       "28431               2015-11-18            9803                1   \n",
       "35403               2016-02-10            2136              NaN   \n",
       "35813               2016-01-06            0000                2   \n",
       "44697               2016-02-21            7580                1   \n",
       "46462               2016-03-11            7707                1   \n",
       "67907               2016-09-10             NaN                1   \n",
       "467816              2022-11-07             NaN                3   \n",
       "471372              2022-10-26             NaN                3   \n",
       "480008              2022-10-02             NaN                2   \n",
       "481048              2022-10-01             NaN                1   \n",
       "485748              2022-11-04             NaN                2   \n",
       "487264              2022-10-17             NaN                1   \n",
       "490095              2022-10-22             NaN                1   \n",
       "490694              2022-11-27             NaN                1   \n",
       "493152              2022-11-02             NaN                1   \n",
       "505125              2022-12-07             NaN                2   \n",
       "531023              2023-04-11             NaN                2   \n",
       "\n",
       "              Relationship of Sponsor  \n",
       "23160                          Father  \n",
       "24832                          Mother  \n",
       "28431                          Father  \n",
       "35403                         Unknown  \n",
       "35813                          Sister  \n",
       "44697                          Mother  \n",
       "46462                          Father  \n",
       "67907                          Mother  \n",
       "467816              Unrelated Sponsor  \n",
       "471372              Unrelated Sponsor  \n",
       "480008  Uncle (Non-Primary Caregiver)  \n",
       "481048                         Mother  \n",
       "485748                    Grandmother  \n",
       "487264                         Mother  \n",
       "490095                         Father  \n",
       "490694                         Mother  \n",
       "493152                         Mother  \n",
       "505125                    Grandmother  \n",
       "531023                    Grandmother  "
      ]
     },
     "execution_count": 44,
     "metadata": {},
     "output_type": "execute_result"
    }
   ],
   "source": [
    "df[df[\"Sponsor Zipcode\"].str.len() != 5]"
   ]
  },
  {
   "cell_type": "markdown",
   "metadata": {},
   "source": [
    "Looking at these results, we can see there are basically 2 categories of non-conforming zipcodes. There are a handful where the zipcode is made of digits, but there are too few digits for a 5-digit zipcode. The rest of the rows have a value called `NaN` in the zipcode field. `NaN` stands for not-a-number, and in this case it's basically saying the zipcode field is null for these rows. Let's address these `NaN` rows first.\n",
    "\n",
    "To fix these, we are just going to drop those rows from our dataframe by filtering out those values and assigning the result overtop of our df."
   ]
  },
  {
   "cell_type": "code",
   "execution_count": 46,
   "metadata": {},
   "outputs": [
    {
     "name": "stdout",
     "output_type": "stream",
     "text": [
      "553247\n",
      "553235\n"
     ]
    }
   ],
   "source": [
    "print(len(df))\n",
    "df = df[~df[\"Sponsor Zipcode\"].isna()]\n",
    "print(len(df))"
   ]
  },
  {
   "cell_type": "markdown",
   "metadata": {},
   "source": [
    "The other 7 rows will have to be addressed another way. These zipcodes are all one digit short of a full zipcode. What likely happened is when the HHS analyst exported the data to an excel sheet, any leading zeros in this field were dropped. We can add those zeros back in by using a method called `zfill` on the series."
   ]
  },
  {
   "cell_type": "code",
   "execution_count": 47,
   "metadata": {},
   "outputs": [
    {
     "name": "stderr",
     "output_type": "stream",
     "text": [
      "/var/folders/hw/j8xh1n753q34cj9kckc9xc2c0000gp/T/ipykernel_16278/2292004272.py:1: SettingWithCopyWarning: \n",
      "A value is trying to be set on a copy of a slice from a DataFrame.\n",
      "Try using .loc[row_indexer,col_indexer] = value instead\n",
      "\n",
      "See the caveats in the documentation: https://pandas.pydata.org/pandas-docs/stable/user_guide/indexing.html#returning-a-view-versus-a-copy\n",
      "  df['Sponsor Zipcode'] = df['Sponsor Zipcode'].str.zfill(5)\n"
     ]
    }
   ],
   "source": [
    "df['Sponsor Zipcode'] = df['Sponsor Zipcode'].str.zfill(5)"
   ]
  },
  {
   "cell_type": "markdown",
   "metadata": {},
   "source": [
    "And now, finally, we are done cleaning up the spreadsheet and can start on our analysis!"
   ]
  },
  {
   "cell_type": "markdown",
   "metadata": {},
   "source": [
    "### Sort the data\n",
    "\n",
    "To sort a data frame, use the `sort_values()` method. At a minimum, you need to tell it which column to sort on."
   ]
  },
  {
   "cell_type": "code",
   "execution_count": null,
   "metadata": {
    "scrolled": true
   },
   "outputs": [],
   "source": [
    "df.sort_values(\"Child's Date of Entry\")"
   ]
  },
  {
   "cell_type": "markdown",
   "metadata": {},
   "source": [
    "To sort descending, you need to pass in another argument to the `sort_values()` method: `ascending=False`. Note that the boolean value is _not_ a string, so it's not contained in quotes, and only the initial letter is capitalized. (If you are supplying multiple arguments to a function or method, separate them with commas.)\n",
    "\n",
    "👉 [Click here for more information on Python booleans](Python%20syntax%20cheat%20sheet.ipynb#Booleans)."
   ]
  },
  {
   "cell_type": "code",
   "execution_count": null,
   "metadata": {
    "scrolled": true
   },
   "outputs": [],
   "source": [
    "df.sort_values(\"Child's Date of Entry\", ascending=False)"
   ]
  },
  {
   "cell_type": "markdown",
   "metadata": {},
   "source": [
    "You can use a process called \"method chaining\" to perform multiple operations in one line. If, for instance, we wanted to sort the data frame by salary descending and inspect the first 5 records returned:"
   ]
  },
  {
   "cell_type": "code",
   "execution_count": null,
   "metadata": {
    "scrolled": true
   },
   "outputs": [],
   "source": [
    "df.sort_values(\"Child's Date of Entry\", ascending=False).head()"
   ]
  },
  {
   "cell_type": "markdown",
   "metadata": {},
   "source": [
    "You can sort by multiple columns by passing in a _list_ of column names rather than the name of a single column. A list is a collection of items enclosed within square brackets `[]`.\n",
    "\n",
    "👉 [Click here for more information on Python lists](Python%20syntax%20cheat%20sheet.ipynb#Lists).\n",
    "\n",
    "To sort first by `salary`, then by `team`:"
   ]
  },
  {
   "cell_type": "code",
   "execution_count": null,
   "metadata": {
    "scrolled": true
   },
   "outputs": [],
   "source": [
    "df.sort_values([\"Child's Date of Entry\", \"Child's Country of Origin\"]).head()"
   ]
  },
  {
   "cell_type": "markdown",
   "metadata": {},
   "source": [
    "You can specify the sort order (descending vs. ascending) for each sort column by passing another list to the `ascending` keyword with `True` and `False` items corresponding to the position of the columns in the first list. \n",
    "\n",
    "For example, to sort by `salary` descending, then by `team` ascending:"
   ]
  },
  {
   "cell_type": "code",
   "execution_count": null,
   "metadata": {
    "scrolled": true
   },
   "outputs": [],
   "source": [
    "df.sort_values([\"Child's Date of Entry\", \"Child's Country of Origin\"], ascending=[False, True]).head()"
   ]
  },
  {
   "cell_type": "markdown",
   "metadata": {},
   "source": [
    "The `False` goes with `salary` and the `True` with `team` because they're in the same position in their respective lists."
   ]
  },
  {
   "cell_type": "markdown",
   "metadata": {},
   "source": [
    "One other note: Despite all of this sorting we've been doing, the original `df` data frame is unchanged:"
   ]
  },
  {
   "cell_type": "code",
   "execution_count": null,
   "metadata": {
    "scrolled": true
   },
   "outputs": [],
   "source": [
    "df.head()"
   ]
  },
  {
   "cell_type": "markdown",
   "metadata": {},
   "source": [
    "That's because we haven't \"saved\" the results of those sorts by assigning them to a new variable. Typically, if you want to preserve a sort (or any other kind of manipulation), you'd would assign the results to a new variable:"
   ]
  },
  {
   "cell_type": "code",
   "execution_count": null,
   "metadata": {
    "scrolled": true
   },
   "outputs": [],
   "source": [
    "sorted_by_origin = df.sort_values(\"Child's Country of Origin\")"
   ]
  },
  {
   "cell_type": "code",
   "execution_count": null,
   "metadata": {
    "scrolled": true
   },
   "outputs": [],
   "source": [
    "sorted_by_origin.head()"
   ]
  },
  {
   "cell_type": "markdown",
   "metadata": {},
   "source": [
    "### ✍️ Your turn\n",
    "\n",
    "In the cells below, practice sorting the `df` data frame:\n",
    "- By `Child's Country of Origin`\n",
    "- By `Child's Date of Entry` descending\n",
    "- By `Child's Country of Origin` descending, then by `Child's Date of Entry` ascending, and save the results to a new variable called `sorted_by_origin_entry`"
   ]
  },
  {
   "cell_type": "code",
   "execution_count": null,
   "metadata": {
    "scrolled": true
   },
   "outputs": [],
   "source": []
  },
  {
   "cell_type": "code",
   "execution_count": null,
   "metadata": {
    "scrolled": true
   },
   "outputs": [],
   "source": []
  },
  {
   "cell_type": "code",
   "execution_count": null,
   "metadata": {
    "scrolled": true
   },
   "outputs": [],
   "source": []
  },
  {
   "cell_type": "code",
   "execution_count": null,
   "metadata": {
    "scrolled": true
   },
   "outputs": [],
   "source": []
  },
  {
   "cell_type": "code",
   "execution_count": null,
   "metadata": {
    "scrolled": true
   },
   "outputs": [],
   "source": []
  },
  {
   "cell_type": "markdown",
   "metadata": {},
   "source": [
    "### Filter the data\n",
    "\n",
    "We've already touched on filtering when we were preparing our data, but let's go over two different kinds of filtering in more detail:\n",
    "\n",
    "- Column filtering: Grabbing one or more columns of data to look at, like passing column names to a `SELECT` statement in SQL.\n",
    "- Row filtering: Looking at a subset of your data that matches some criteria, like the crieria following a `WHERE` statement in SQL. (For instance, \"Show me all records in my data frame where the value in the `team` column is \"Arizona\".)"
   ]
  },
  {
   "cell_type": "markdown",
   "metadata": {},
   "source": [
    "#### Column filtering\n",
    "\n",
    "To access the values in a single column of data, you can use \"dot notation\" as long as the column name doesn't have spaces or other special characters:"
   ]
  },
  {
   "cell_type": "code",
   "execution_count": null,
   "metadata": {
    "scrolled": true
   },
   "outputs": [],
   "source": [
    "df.ID"
   ]
  },
  {
   "cell_type": "markdown",
   "metadata": {},
   "source": [
    "Otherwise, use \"bracket notation\" with the name of the column as a string."
   ]
  },
  {
   "cell_type": "code",
   "execution_count": null,
   "metadata": {
    "scrolled": true
   },
   "outputs": [],
   "source": [
    "df['Relationship of Sponsor']"
   ]
  },
  {
   "cell_type": "markdown",
   "metadata": {},
   "source": [
    "When you access a single column in your data frame, you're getting back something called a [`Series`](https://pandas.pydata.org/docs/reference/api/pandas.Series.html) object (as opposed to a `DataFrame` object).\n",
    "\n",
    "One of the methods you can call on a Series is `unique()`, which shows you each unique value in the column. Let's do that with the `team` column:"
   ]
  },
  {
   "cell_type": "code",
   "execution_count": null,
   "metadata": {
    "scrolled": true
   },
   "outputs": [],
   "source": [
    "df[\"Child's Country of Origin\"].unique()"
   ]
  },
  {
   "cell_type": "markdown",
   "metadata": {},
   "source": [
    "What we just did is the equivalent of dragging the \"team\" column name into the \"rows\" area of a spreadsheet pivot table, or, in SQL,\n",
    "\n",
    "```sql\n",
    "SELECT DISTINCT COUNTRY\n",
    "FROM migrants\n",
    "```\n",
    "\n",
    "You can also count up a total for each value using the `value_counts()` method:"
   ]
  },
  {
   "cell_type": "code",
   "execution_count": null,
   "metadata": {
    "scrolled": true
   },
   "outputs": [],
   "source": [
    "df[\"Child's Country of Origin\"].value_counts()"
   ]
  },
  {
   "cell_type": "markdown",
   "metadata": {},
   "source": [
    "For numeric columns, you can call methods on that Series to compute basic summary stats:\n",
    "- `min()` to get the lowest value\n",
    "- `max()` to get the greatest value\n",
    "- `median()` to get the median\n",
    "- `mean()` to get the average\n",
    "- `mode()` to get the most common value\n",
    "\n",
    "Our dataset doesn't have any numeric columns, but if we did use the above methods like so:"
   ]
  },
  {
   "cell_type": "code",
   "execution_count": null,
   "metadata": {
    "scrolled": true
   },
   "outputs": [],
   "source": [
    "# Find the minimum value\n",
    "df[\"NUMERIC_COLUMN\"].min()\n",
    "# Find the maximum value\n",
    "df[\"NUMERIC_COLUMN\"].max()\n",
    "# Find the median value\n",
    "df[\"NUMERIC_COLUMN\"].median()\n",
    "# Find the average value\n",
    "df[\"NUMERIC_COLUMN\"].mean()\n",
    "# Find the most common value\n",
    "df[\"NUMERIC_COLUMN\"].mode()"
   ]
  },
  {
   "cell_type": "markdown",
   "metadata": {},
   "source": [
    "To select multiple columns in your data frame, use bracket notation but pass in a _list_ of column names instead of just one. To make things clearer, you could break this out into two steps:"
   ]
  },
  {
   "cell_type": "code",
   "execution_count": null,
   "metadata": {
    "scrolled": true
   },
   "outputs": [],
   "source": [
    "columns_we_care_about = [\"Child's Date of Entry\", \"Child's Country of Origin\"]\n",
    "df[columns_we_care_about]"
   ]
  },
  {
   "cell_type": "markdown",
   "metadata": {},
   "source": [
    "#### Row filtering\n",
    "\n",
    "To make things maximally confusing, you _also_ use bracket notation for row filtering. Except in this case, instead of dropping the name of a column (or a list of column names) into the brackets, you hand it a _logical condition_ that resolves to `True` or `False`.\n",
    "\n",
    "Let's filter our data to see children who entered the country since 2019:\n",
    "\n",
    "(The equivalent SQL statement would be:\n",
    "```sql\n",
    "SELECT *\n",
    "FROM migrants\n",
    "WHERE DATE_ENTERED > 2019-01-01\n",
    "```\n",
    ")"
   ]
  },
  {
   "cell_type": "code",
   "execution_count": null,
   "metadata": {
    "scrolled": true
   },
   "outputs": [],
   "source": [
    "df[df[\"Child's Date of Entry\"] >= pd.to_datetime(\"2019-01-01\")]"
   ]
  },
  {
   "cell_type": "markdown",
   "metadata": {},
   "source": [
    "For many filters, you'll use Python's comparison operators:\n",
    "- `>` greater than\n",
    "- `>=` greater than or equal to\n",
    "- `<` less than\n",
    "- `<=` less than or equal to\n",
    "- `==` equal to\n",
    "- `!=` not equal to\n",
    "\n",
    "#### Multiple filter conditions\n",
    "\n",
    "What if you want to use multiple filtering conditions? There is a way, but it usually makes more sense -- and is much easier for your colleagues and your future self to think about and debug -- to _save_ the results of each filtering operation by assigning the results to a new variable, then filter _the filtered data frame_ again instead of the original data frame.\n",
    "\n",
    "For example, if you wanted to look at all of the kids who came from Guatemala since Jan 1, 2020, you might do something like:"
   ]
  },
  {
   "cell_type": "code",
   "execution_count": null,
   "metadata": {
    "scrolled": true
   },
   "outputs": [],
   "source": [
    "guatemala_kids = df[df[\"Child's Country of Origin\"] == 'Guatemala']\n",
    "recent_guatemala_kids = guatemala_kids[guatemala_kids[\"Child's Date of Entry\"] >= pd.to_datetime(\"2020-01-01\")]\n",
    "recent_guatemala_kids"
   ]
  },
  {
   "cell_type": "code",
   "execution_count": null,
   "metadata": {
    "scrolled": true
   },
   "outputs": [],
   "source": []
  },
  {
   "cell_type": "markdown",
   "metadata": {},
   "source": [
    "👉 [Check out some other filtering operations here]()."
   ]
  },
  {
   "cell_type": "markdown",
   "metadata": {},
   "source": [
    "### ✍️ Your turn\n",
    "\n",
    "In the cells below, practice filtering:\n",
    "- Column filtering: Select the `Child's Country of Origin` column\n",
    "- Column filtering: Select the `Child's Country of Origin` and `Child's Date of Entry` columns\n",
    "- Row filtering: Filter the rows to return only migrants who came from Columbia\n",
    "- Row filtering: Filter the rows to return only migrants who came from Brazil in 2022"
   ]
  },
  {
   "cell_type": "code",
   "execution_count": null,
   "metadata": {
    "scrolled": true
   },
   "outputs": [],
   "source": []
  },
  {
   "cell_type": "code",
   "execution_count": null,
   "metadata": {
    "scrolled": true
   },
   "outputs": [],
   "source": []
  },
  {
   "cell_type": "code",
   "execution_count": null,
   "metadata": {
    "scrolled": true
   },
   "outputs": [],
   "source": []
  },
  {
   "cell_type": "code",
   "execution_count": null,
   "metadata": {
    "scrolled": true
   },
   "outputs": [],
   "source": []
  },
  {
   "cell_type": "code",
   "execution_count": null,
   "metadata": {
    "scrolled": true
   },
   "outputs": [],
   "source": []
  },
  {
   "cell_type": "markdown",
   "metadata": {},
   "source": [
    "### Group and aggregate the data\n",
    "\n",
    "Data frames have a `groupby` method for grouping and aggregating data, similar to what you might do in a pivot table or a `GROUP BY` statement in SQL. (They also have a [`pivot_table` method](https://pandas.pydata.org/pandas-docs/stable/reference/api/pandas.pivot_table.html), which can be homework for you to research.)\n",
    "\n",
    "Let's say we wanted to see the top 10 countries from which the most migrant children have come to the US unaccompanied. In other words, we want to:\n",
    "- Group the data by the `Child's Country of Origin` column: `groupby()`\n",
    "- Add up the records in each group: `sum()`\n",
    "- Sort the results by count descending: `sort_values()`\n",
    "- Take only the top 10 results: `head(10)`\n",
    "\n",
    "Calling the `groupby()` method without telling it what to do with the grouped records isn't super helpful:"
   ]
  },
  {
   "cell_type": "code",
   "execution_count": null,
   "metadata": {
    "scrolled": true
   },
   "outputs": [],
   "source": [
    "df.groupby(\"Child's Country of Origin\")"
   ]
  },
  {
   "cell_type": "markdown",
   "metadata": {},
   "source": [
    "At this point, it's basically telling us that it has successfully grouped the records -- now what? Using method chaining, describe what you would like to _do_ with the numeric columns once you've grouped the data. Let's start with `sum()`:"
   ]
  },
  {
   "cell_type": "code",
   "execution_count": null,
   "metadata": {
    "scrolled": true
   },
   "outputs": [],
   "source": [
    "df.groupby(\"Child's Country of Origin\").count()"
   ]
  },
  {
   "cell_type": "markdown",
   "metadata": {},
   "source": [
    "Ope! It's counting _every_ column.\n",
    "\n",
    "To deal with this, use column filtering to select the two columns we're interested in -- `Child's Country of Origin` for grouping and `ID` for counting -- and _then_ tack on the `groupby` statement, etc.\n",
    "\n",
    "(Remember: To select columns from a data frame, use bracket notation and hand it a _list_ of column names.)"
   ]
  },
  {
   "cell_type": "code",
   "execution_count": null,
   "metadata": {
    "scrolled": true
   },
   "outputs": [],
   "source": [
    "df[[\"Child's Country of Origin\", \"ID\"]].groupby(\"Child's Country of Origin\").count()"
   ]
  },
  {
   "cell_type": "markdown",
   "metadata": {},
   "source": [
    "Bang bang. Now, using method chaining, let's sort by `salary` descending and look at just the top 10:"
   ]
  },
  {
   "cell_type": "code",
   "execution_count": null,
   "metadata": {
    "scrolled": true
   },
   "outputs": [],
   "source": [
    "df[[\"Child's Country of Origin\", \"ID\"]].groupby(\"Child's Country of Origin\").count().sort_values('ID', ascending=False).head(10)"
   ]
  },
  {
   "cell_type": "markdown",
   "metadata": {},
   "source": [
    "You can use aggregation methods other than `sum()` -- `mean()` and `median()`, for instance -- or you can use [the `agg()` method](https://pandas.pydata.org/pandas-docs/stable/reference/api/pandas.DataFrame.agg.html) to specify one or more aggregation methods to apply."
   ]
  },
  {
   "cell_type": "markdown",
   "metadata": {},
   "source": [
    "Additionally, we can group by multiple columns. The previous groupby showed us the total children from each country over the entire period, but let's take a look at it by year. The first thing we will need to do is create a new year column. Because we converted our `Date of Entry` column to a datetime, we can get the year from it easily. We'll create a new column called `year_entered` that is the year from the date of entry."
   ]
  },
  {
   "cell_type": "code",
   "execution_count": 48,
   "metadata": {},
   "outputs": [
    {
     "name": "stderr",
     "output_type": "stream",
     "text": [
      "/var/folders/hw/j8xh1n753q34cj9kckc9xc2c0000gp/T/ipykernel_16278/1943504861.py:1: SettingWithCopyWarning: \n",
      "A value is trying to be set on a copy of a slice from a DataFrame.\n",
      "Try using .loc[row_indexer,col_indexer] = value instead\n",
      "\n",
      "See the caveats in the documentation: https://pandas.pydata.org/pandas-docs/stable/user_guide/indexing.html#returning-a-view-versus-a-copy\n",
      "  df[\"year_entered\"] = df[\"Child's Date of Entry\"].dt.year\n"
     ]
    },
    {
     "data": {
      "text/html": [
       "<div>\n",
       "<style scoped>\n",
       "    .dataframe tbody tr th:only-of-type {\n",
       "        vertical-align: middle;\n",
       "    }\n",
       "\n",
       "    .dataframe tbody tr th {\n",
       "        vertical-align: top;\n",
       "    }\n",
       "\n",
       "    .dataframe thead th {\n",
       "        text-align: right;\n",
       "    }\n",
       "</style>\n",
       "<table border=\"1\" class=\"dataframe\">\n",
       "  <thead>\n",
       "    <tr style=\"text-align: right;\">\n",
       "      <th></th>\n",
       "      <th>ID</th>\n",
       "      <th>Child's Country of Origin</th>\n",
       "      <th>Child's Gender</th>\n",
       "      <th>Child's Date of Entry</th>\n",
       "      <th>Child's Date of Release</th>\n",
       "      <th>Sponsor Zipcode</th>\n",
       "      <th>Sponsor Category</th>\n",
       "      <th>Relationship of Sponsor</th>\n",
       "      <th>year_entered</th>\n",
       "    </tr>\n",
       "  </thead>\n",
       "  <tbody>\n",
       "    <tr>\n",
       "      <th>0</th>\n",
       "      <td>1</td>\n",
       "      <td>Honduras</td>\n",
       "      <td>F</td>\n",
       "      <td>2015-01-01</td>\n",
       "      <td>2015-01-28</td>\n",
       "      <td>37863</td>\n",
       "      <td>1</td>\n",
       "      <td>Mother</td>\n",
       "      <td>2015</td>\n",
       "    </tr>\n",
       "    <tr>\n",
       "      <th>1</th>\n",
       "      <td>2</td>\n",
       "      <td>Honduras</td>\n",
       "      <td>F</td>\n",
       "      <td>2015-01-01</td>\n",
       "      <td>2015-01-23</td>\n",
       "      <td>28212</td>\n",
       "      <td>1</td>\n",
       "      <td>Mother</td>\n",
       "      <td>2015</td>\n",
       "    </tr>\n",
       "    <tr>\n",
       "      <th>2</th>\n",
       "      <td>3</td>\n",
       "      <td>Honduras</td>\n",
       "      <td>F</td>\n",
       "      <td>2015-01-01</td>\n",
       "      <td>2015-01-23</td>\n",
       "      <td>28212</td>\n",
       "      <td>2</td>\n",
       "      <td>Aunt</td>\n",
       "      <td>2015</td>\n",
       "    </tr>\n",
       "    <tr>\n",
       "      <th>3</th>\n",
       "      <td>4</td>\n",
       "      <td>Honduras</td>\n",
       "      <td>M</td>\n",
       "      <td>2015-01-02</td>\n",
       "      <td>2015-01-30</td>\n",
       "      <td>27501</td>\n",
       "      <td>2</td>\n",
       "      <td>Brother</td>\n",
       "      <td>2015</td>\n",
       "    </tr>\n",
       "    <tr>\n",
       "      <th>4</th>\n",
       "      <td>5</td>\n",
       "      <td>Honduras</td>\n",
       "      <td>M</td>\n",
       "      <td>2015-01-01</td>\n",
       "      <td>2015-02-13</td>\n",
       "      <td>78747</td>\n",
       "      <td>3</td>\n",
       "      <td>Other Cousin</td>\n",
       "      <td>2015</td>\n",
       "    </tr>\n",
       "  </tbody>\n",
       "</table>\n",
       "</div>"
      ],
      "text/plain": [
       "  ID Child's Country of Origin Child's Gender Child's Date of Entry  \\\n",
       "0  1                  Honduras              F            2015-01-01   \n",
       "1  2                  Honduras              F            2015-01-01   \n",
       "2  3                  Honduras              F            2015-01-01   \n",
       "3  4                  Honduras              M            2015-01-02   \n",
       "4  5                  Honduras              M            2015-01-01   \n",
       "\n",
       "  Child's Date of Release Sponsor Zipcode Sponsor Category  \\\n",
       "0              2015-01-28           37863                1   \n",
       "1              2015-01-23           28212                1   \n",
       "2              2015-01-23           28212                2   \n",
       "3              2015-01-30           27501                2   \n",
       "4              2015-02-13           78747                3   \n",
       "\n",
       "  Relationship of Sponsor  year_entered  \n",
       "0                  Mother          2015  \n",
       "1                  Mother          2015  \n",
       "2                    Aunt          2015  \n",
       "3                 Brother          2015  \n",
       "4            Other Cousin          2015  "
      ]
     },
     "execution_count": 48,
     "metadata": {},
     "output_type": "execute_result"
    }
   ],
   "source": [
    "df[\"year_entered\"] = df[\"Child's Date of Entry\"].dt.year\n",
    "df.head()"
   ]
  },
  {
   "cell_type": "markdown",
   "metadata": {},
   "source": [
    "In order to group by multiple columns, we'll simply pass in an list of columns to `groupby()`."
   ]
  },
  {
   "cell_type": "code",
   "execution_count": 56,
   "metadata": {},
   "outputs": [
    {
     "data": {
      "text/html": [
       "<div>\n",
       "<style scoped>\n",
       "    .dataframe tbody tr th:only-of-type {\n",
       "        vertical-align: middle;\n",
       "    }\n",
       "\n",
       "    .dataframe tbody tr th {\n",
       "        vertical-align: top;\n",
       "    }\n",
       "\n",
       "    .dataframe thead th {\n",
       "        text-align: right;\n",
       "    }\n",
       "</style>\n",
       "<table border=\"1\" class=\"dataframe\">\n",
       "  <thead>\n",
       "    <tr style=\"text-align: right;\">\n",
       "      <th></th>\n",
       "      <th>Child's Country of Origin</th>\n",
       "      <th>year_entered</th>\n",
       "      <th>ID</th>\n",
       "    </tr>\n",
       "  </thead>\n",
       "  <tbody>\n",
       "    <tr>\n",
       "      <th>4</th>\n",
       "      <td>Albania</td>\n",
       "      <td>2015</td>\n",
       "      <td>2</td>\n",
       "    </tr>\n",
       "    <tr>\n",
       "      <th>13</th>\n",
       "      <td>Angola</td>\n",
       "      <td>2015</td>\n",
       "      <td>1</td>\n",
       "    </tr>\n",
       "    <tr>\n",
       "      <th>21</th>\n",
       "      <td>Argentina</td>\n",
       "      <td>2015</td>\n",
       "      <td>1</td>\n",
       "    </tr>\n",
       "    <tr>\n",
       "      <th>28</th>\n",
       "      <td>Armenia</td>\n",
       "      <td>2015</td>\n",
       "      <td>1</td>\n",
       "    </tr>\n",
       "    <tr>\n",
       "      <th>36</th>\n",
       "      <td>Azerbaijan</td>\n",
       "      <td>2015</td>\n",
       "      <td>1</td>\n",
       "    </tr>\n",
       "    <tr>\n",
       "      <th>...</th>\n",
       "      <td>...</td>\n",
       "      <td>...</td>\n",
       "      <td>...</td>\n",
       "    </tr>\n",
       "    <tr>\n",
       "      <th>455</th>\n",
       "      <td>United Kingdom</td>\n",
       "      <td>2023</td>\n",
       "      <td>2</td>\n",
       "    </tr>\n",
       "    <tr>\n",
       "      <th>464</th>\n",
       "      <td>United States of America</td>\n",
       "      <td>2023</td>\n",
       "      <td>33</td>\n",
       "    </tr>\n",
       "    <tr>\n",
       "      <th>472</th>\n",
       "      <td>Uzbekistan</td>\n",
       "      <td>2023</td>\n",
       "      <td>22</td>\n",
       "    </tr>\n",
       "    <tr>\n",
       "      <th>481</th>\n",
       "      <td>Venezuela</td>\n",
       "      <td>2023</td>\n",
       "      <td>640</td>\n",
       "    </tr>\n",
       "    <tr>\n",
       "      <th>490</th>\n",
       "      <td>Vietnam</td>\n",
       "      <td>2023</td>\n",
       "      <td>9</td>\n",
       "    </tr>\n",
       "  </tbody>\n",
       "</table>\n",
       "<p>492 rows × 3 columns</p>\n",
       "</div>"
      ],
      "text/plain": [
       "    Child's Country of Origin  year_entered   ID\n",
       "4                     Albania          2015    2\n",
       "13                     Angola          2015    1\n",
       "21                  Argentina          2015    1\n",
       "28                    Armenia          2015    1\n",
       "36                 Azerbaijan          2015    1\n",
       "..                        ...           ...  ...\n",
       "455            United Kingdom          2023    2\n",
       "464  United States of America          2023   33\n",
       "472                Uzbekistan          2023   22\n",
       "481                 Venezuela          2023  640\n",
       "490                   Vietnam          2023    9\n",
       "\n",
       "[492 rows x 3 columns]"
      ]
     },
     "execution_count": 56,
     "metadata": {},
     "output_type": "execute_result"
    }
   ],
   "source": [
    "origin_year = df.groupby([\"Child's Country of Origin\",\"year_entered\"])[\"ID\"].count().reset_index()\n",
    "origin_year.sort_values([\"year_entered\", \"Child's Country of Origin\"], ascending=[True,True])"
   ]
  },
  {
   "cell_type": "code",
   "execution_count": 57,
   "metadata": {},
   "outputs": [
    {
     "data": {
      "text/html": [
       "<div>\n",
       "<style scoped>\n",
       "    .dataframe tbody tr th:only-of-type {\n",
       "        vertical-align: middle;\n",
       "    }\n",
       "\n",
       "    .dataframe tbody tr th {\n",
       "        vertical-align: top;\n",
       "    }\n",
       "\n",
       "    .dataframe thead th {\n",
       "        text-align: right;\n",
       "    }\n",
       "</style>\n",
       "<table border=\"1\" class=\"dataframe\">\n",
       "  <thead>\n",
       "    <tr style=\"text-align: right;\">\n",
       "      <th></th>\n",
       "      <th>Child's Country of Origin</th>\n",
       "      <th>year_entered</th>\n",
       "      <th>ID</th>\n",
       "    </tr>\n",
       "  </thead>\n",
       "  <tbody>\n",
       "    <tr>\n",
       "      <th>209</th>\n",
       "      <td>Guatemala</td>\n",
       "      <td>2015</td>\n",
       "      <td>18803</td>\n",
       "    </tr>\n",
       "    <tr>\n",
       "      <th>210</th>\n",
       "      <td>Guatemala</td>\n",
       "      <td>2016</td>\n",
       "      <td>23677</td>\n",
       "    </tr>\n",
       "    <tr>\n",
       "      <th>211</th>\n",
       "      <td>Guatemala</td>\n",
       "      <td>2017</td>\n",
       "      <td>14030</td>\n",
       "    </tr>\n",
       "    <tr>\n",
       "      <th>212</th>\n",
       "      <td>Guatemala</td>\n",
       "      <td>2018</td>\n",
       "      <td>23786</td>\n",
       "    </tr>\n",
       "    <tr>\n",
       "      <th>213</th>\n",
       "      <td>Guatemala</td>\n",
       "      <td>2019</td>\n",
       "      <td>25927</td>\n",
       "    </tr>\n",
       "    <tr>\n",
       "      <th>214</th>\n",
       "      <td>Guatemala</td>\n",
       "      <td>2020</td>\n",
       "      <td>6732</td>\n",
       "    </tr>\n",
       "    <tr>\n",
       "      <th>215</th>\n",
       "      <td>Guatemala</td>\n",
       "      <td>2021</td>\n",
       "      <td>69062</td>\n",
       "    </tr>\n",
       "    <tr>\n",
       "      <th>216</th>\n",
       "      <td>Guatemala</td>\n",
       "      <td>2022</td>\n",
       "      <td>57130</td>\n",
       "    </tr>\n",
       "    <tr>\n",
       "      <th>217</th>\n",
       "      <td>Guatemala</td>\n",
       "      <td>2023</td>\n",
       "      <td>15089</td>\n",
       "    </tr>\n",
       "  </tbody>\n",
       "</table>\n",
       "</div>"
      ],
      "text/plain": [
       "    Child's Country of Origin  year_entered     ID\n",
       "209                 Guatemala          2015  18803\n",
       "210                 Guatemala          2016  23677\n",
       "211                 Guatemala          2017  14030\n",
       "212                 Guatemala          2018  23786\n",
       "213                 Guatemala          2019  25927\n",
       "214                 Guatemala          2020   6732\n",
       "215                 Guatemala          2021  69062\n",
       "216                 Guatemala          2022  57130\n",
       "217                 Guatemala          2023  15089"
      ]
     },
     "execution_count": 57,
     "metadata": {},
     "output_type": "execute_result"
    }
   ],
   "source": [
    "origin_year[origin_year[\"Child's Country of Origin\"] == \"Guatemala\"]"
   ]
  },
  {
   "cell_type": "markdown",
   "metadata": {
    "editable": true,
    "slideshow": {
     "slide_type": ""
    },
    "tags": []
   },
   "source": [
    "### ✍️ Your turn\n",
    "\n",
    "In the cells below, practice grouping data:\n",
    "- What is the total number of kids that came each year? Group the data by year, and then `count` the IDs.\n",
    "- What is the year-by-year count of children coming from Guatemala? Group the data by origin and year, filter it to show only kids from Guatemala, and then sort it by `year_entered`.\n",
    "- What else?"
   ]
  },
  {
   "cell_type": "code",
   "execution_count": null,
   "metadata": {
    "scrolled": true
   },
   "outputs": [],
   "source": []
  },
  {
   "cell_type": "code",
   "execution_count": null,
   "metadata": {
    "scrolled": true
   },
   "outputs": [],
   "source": []
  },
  {
   "cell_type": "code",
   "execution_count": null,
   "metadata": {
    "scrolled": true
   },
   "outputs": [],
   "source": []
  },
  {
   "cell_type": "code",
   "execution_count": null,
   "metadata": {
    "scrolled": true
   },
   "outputs": [],
   "source": []
  },
  {
   "cell_type": "markdown",
   "metadata": {},
   "source": [
    "### Export to CSV\n",
    "\n",
    "To export a dataframe to a delimited text file, use the [`to_csv()`](https://pandas.pydata.org/pandas-docs/stable/reference/api/pandas.DataFrame.to_csv.html) method. If you don't want to include the index numbers, specify `index=False`."
   ]
  },
  {
   "cell_type": "code",
   "execution_count": null,
   "metadata": {
    "scrolled": true
   },
   "outputs": [],
   "source": [
    "df.to_csv('my-cool-data-frame.csv', index=False)"
   ]
  },
  {
   "cell_type": "code",
   "execution_count": null,
   "metadata": {
    "scrolled": true
   },
   "outputs": [],
   "source": []
  },
  {
   "cell_type": "code",
   "execution_count": null,
   "metadata": {
    "scrolled": true
   },
   "outputs": [],
   "source": []
  },
  {
   "cell_type": "code",
   "execution_count": null,
   "metadata": {
    "scrolled": true
   },
   "outputs": [],
   "source": []
  },
  {
   "cell_type": "code",
   "execution_count": null,
   "metadata": {
    "scrolled": true
   },
   "outputs": [],
   "source": []
  },
  {
   "cell_type": "code",
   "execution_count": null,
   "metadata": {
    "scrolled": true
   },
   "outputs": [],
   "source": []
  },
  {
   "cell_type": "code",
   "execution_count": null,
   "metadata": {
    "scrolled": true
   },
   "outputs": [],
   "source": []
  }
 ],
 "metadata": {
  "kernelspec": {
   "display_name": "Python 3 (ipykernel)",
   "language": "python",
   "name": "python3"
  },
  "language_info": {
   "codemirror_mode": {
    "name": "ipython",
    "version": 3
   },
   "file_extension": ".py",
   "mimetype": "text/x-python",
   "name": "python",
   "nbconvert_exporter": "python",
   "pygments_lexer": "ipython3",
   "version": "3.12.3"
  }
 },
 "nbformat": 4,
 "nbformat_minor": 4
}
